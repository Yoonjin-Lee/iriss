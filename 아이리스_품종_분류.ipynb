{
  "nbformat": 4,
  "nbformat_minor": 0,
  "metadata": {
    "colab": {
      "name": "아이리스 품종 분류",
      "provenance": [],
      "authorship_tag": "ABX9TyP5L6qH2EGjzpA3g6Cf31Bn",
      "include_colab_link": true
    },
    "kernelspec": {
      "name": "python3",
      "display_name": "Python 3"
    }
  },
  "cells": [
    {
      "cell_type": "markdown",
      "metadata": {
        "id": "view-in-github",
        "colab_type": "text"
      },
      "source": [
        "<a href=\"https://colab.research.google.com/github/Yoonjin-Lee/iriss/blob/main/%EC%95%84%EC%9D%B4%EB%A6%AC%EC%8A%A4_%ED%92%88%EC%A2%85_%EB%B6%84%EB%A5%98.ipynb\" target=\"_parent\"><img src=\"https://colab.research.google.com/assets/colab-badge.svg\" alt=\"Open In Colab\"/></a>"
      ]
    },
    {
      "cell_type": "markdown",
      "metadata": {
        "id": "NE9yS9Zqsk2_"
      },
      "source": [
        "범주형 자료 분류, softmax라는 활성화 함수를 사용함."
      ]
    },
    {
      "cell_type": "code",
      "metadata": {
        "id": "reKl87IhsgQ4"
      },
      "source": [
        "import tensorflow as tf\r\n",
        "import pandas as pd"
      ],
      "execution_count": 1,
      "outputs": []
    },
    {
      "cell_type": "code",
      "metadata": {
        "colab": {
          "base_uri": "https://localhost:8080/",
          "height": 202
        },
        "id": "HXjsqAOXs130",
        "outputId": "353be7c6-3be7-4b8f-94bf-97dbac4e9aa7"
      },
      "source": [
        "파일경로 = 'https://raw.githubusercontent.com/blackdew/tensorflow1/master/csv/iris.csv'\r\n",
        "아이리스 = pd.read_csv(파일경로)\r\n",
        "아이리스 = pd.get_dummies(아이리스)"
      ],
      "execution_count": 2,
      "outputs": [
        {
          "output_type": "execute_result",
          "data": {
            "text/html": [
              "<div>\n",
              "<style scoped>\n",
              "    .dataframe tbody tr th:only-of-type {\n",
              "        vertical-align: middle;\n",
              "    }\n",
              "\n",
              "    .dataframe tbody tr th {\n",
              "        vertical-align: top;\n",
              "    }\n",
              "\n",
              "    .dataframe thead th {\n",
              "        text-align: right;\n",
              "    }\n",
              "</style>\n",
              "<table border=\"1\" class=\"dataframe\">\n",
              "  <thead>\n",
              "    <tr style=\"text-align: right;\">\n",
              "      <th></th>\n",
              "      <th>꽃잎길이</th>\n",
              "      <th>꽃잎폭</th>\n",
              "      <th>꽃받침길이</th>\n",
              "      <th>꽃받침폭</th>\n",
              "      <th>품종_setosa</th>\n",
              "      <th>품종_versicolor</th>\n",
              "      <th>품종_virginica</th>\n",
              "    </tr>\n",
              "  </thead>\n",
              "  <tbody>\n",
              "    <tr>\n",
              "      <th>0</th>\n",
              "      <td>5.1</td>\n",
              "      <td>3.5</td>\n",
              "      <td>1.4</td>\n",
              "      <td>0.2</td>\n",
              "      <td>1</td>\n",
              "      <td>0</td>\n",
              "      <td>0</td>\n",
              "    </tr>\n",
              "    <tr>\n",
              "      <th>1</th>\n",
              "      <td>4.9</td>\n",
              "      <td>3.0</td>\n",
              "      <td>1.4</td>\n",
              "      <td>0.2</td>\n",
              "      <td>1</td>\n",
              "      <td>0</td>\n",
              "      <td>0</td>\n",
              "    </tr>\n",
              "    <tr>\n",
              "      <th>2</th>\n",
              "      <td>4.7</td>\n",
              "      <td>3.2</td>\n",
              "      <td>1.3</td>\n",
              "      <td>0.2</td>\n",
              "      <td>1</td>\n",
              "      <td>0</td>\n",
              "      <td>0</td>\n",
              "    </tr>\n",
              "    <tr>\n",
              "      <th>3</th>\n",
              "      <td>4.6</td>\n",
              "      <td>3.1</td>\n",
              "      <td>1.5</td>\n",
              "      <td>0.2</td>\n",
              "      <td>1</td>\n",
              "      <td>0</td>\n",
              "      <td>0</td>\n",
              "    </tr>\n",
              "    <tr>\n",
              "      <th>4</th>\n",
              "      <td>5.0</td>\n",
              "      <td>3.6</td>\n",
              "      <td>1.4</td>\n",
              "      <td>0.2</td>\n",
              "      <td>1</td>\n",
              "      <td>0</td>\n",
              "      <td>0</td>\n",
              "    </tr>\n",
              "  </tbody>\n",
              "</table>\n",
              "</div>"
            ],
            "text/plain": [
              "   꽃잎길이  꽃잎폭  꽃받침길이  꽃받침폭  품종_setosa  품종_versicolor  품종_virginica\n",
              "0   5.1  3.5    1.4   0.2          1              0             0\n",
              "1   4.9  3.0    1.4   0.2          1              0             0\n",
              "2   4.7  3.2    1.3   0.2          1              0             0\n",
              "3   4.6  3.1    1.5   0.2          1              0             0\n",
              "4   5.0  3.6    1.4   0.2          1              0             0"
            ]
          },
          "metadata": {
            "tags": []
          },
          "execution_count": 2
        }
      ]
    },
    {
      "cell_type": "code",
      "metadata": {
        "colab": {
          "base_uri": "https://localhost:8080/"
        },
        "id": "z7cSXUEytVzK",
        "outputId": "f1fb493b-14b9-4896-85e2-bcdf7608853a"
      },
      "source": [
        "#독립변수, 종속변수\r\n",
        "독립 = 아이리스[['꽃잎길이', '꽃잎폭', '꽃받침길이', '꽃받침폭']]\r\n",
        "종속 = 아이리스[['품종_setosa', '품종_versicolor','품종_virginica']]\r\n",
        "print(독립.shape, 종속.shape)"
      ],
      "execution_count": 4,
      "outputs": [
        {
          "output_type": "stream",
          "text": [
            "(150, 4) (150, 3)\n"
          ],
          "name": "stdout"
        }
      ]
    },
    {
      "cell_type": "code",
      "metadata": {
        "id": "7qxqZU4Hto7o"
      },
      "source": [
        "X = tf.keras.layers.Input(shape = [4])\r\n",
        "Y = tf.keras.layers.Dense(3, activation = 'softmax')(X)\r\n",
        "model = tf.keras.models.Model(X, Y)\r\n",
        "model.compile(loss = 'categorical_crossentropy')"
      ],
      "execution_count": 15,
      "outputs": []
    },
    {
      "cell_type": "code",
      "metadata": {
        "colab": {
          "base_uri": "https://localhost:8080/"
        },
        "id": "9Sa-E3J5uN4k",
        "outputId": "40e07599-74ce-4ba9-a435-e3cbc244c87b"
      },
      "source": [
        "model.fit(독립, 종속, epochs=100)"
      ],
      "execution_count": 18,
      "outputs": [
        {
          "output_type": "stream",
          "text": [
            "Epoch 1/100\n",
            "5/5 [==============================] - 0s 2ms/step - loss: 1.2190\n",
            "Epoch 2/100\n",
            "5/5 [==============================] - 0s 2ms/step - loss: 1.2105\n",
            "Epoch 3/100\n",
            "5/5 [==============================] - 0s 2ms/step - loss: 1.2002\n",
            "Epoch 4/100\n",
            "5/5 [==============================] - 0s 2ms/step - loss: 1.1918\n",
            "Epoch 5/100\n",
            "5/5 [==============================] - 0s 2ms/step - loss: 1.1815\n",
            "Epoch 6/100\n",
            "5/5 [==============================] - 0s 2ms/step - loss: 1.1723\n",
            "Epoch 7/100\n",
            "5/5 [==============================] - 0s 2ms/step - loss: 1.1643\n",
            "Epoch 8/100\n",
            "5/5 [==============================] - 0s 2ms/step - loss: 1.1546\n",
            "Epoch 9/100\n",
            "5/5 [==============================] - 0s 2ms/step - loss: 1.1444\n",
            "Epoch 10/100\n",
            "5/5 [==============================] - 0s 2ms/step - loss: 1.1346\n",
            "Epoch 11/100\n",
            "5/5 [==============================] - 0s 2ms/step - loss: 1.1260\n",
            "Epoch 12/100\n",
            "5/5 [==============================] - 0s 2ms/step - loss: 1.1181\n",
            "Epoch 13/100\n",
            "5/5 [==============================] - 0s 2ms/step - loss: 1.1078\n",
            "Epoch 14/100\n",
            "5/5 [==============================] - 0s 2ms/step - loss: 1.0992\n",
            "Epoch 15/100\n",
            "5/5 [==============================] - 0s 2ms/step - loss: 1.0912\n",
            "Epoch 16/100\n",
            "5/5 [==============================] - 0s 2ms/step - loss: 1.0830\n",
            "Epoch 17/100\n",
            "5/5 [==============================] - 0s 2ms/step - loss: 1.0743\n",
            "Epoch 18/100\n",
            "5/5 [==============================] - 0s 2ms/step - loss: 1.0651\n",
            "Epoch 19/100\n",
            "5/5 [==============================] - 0s 2ms/step - loss: 1.0571\n",
            "Epoch 20/100\n",
            "5/5 [==============================] - 0s 2ms/step - loss: 1.0495\n",
            "Epoch 21/100\n",
            "5/5 [==============================] - 0s 2ms/step - loss: 1.0411\n",
            "Epoch 22/100\n",
            "5/5 [==============================] - 0s 3ms/step - loss: 1.0328\n",
            "Epoch 23/100\n",
            "5/5 [==============================] - 0s 2ms/step - loss: 1.0248\n",
            "Epoch 24/100\n",
            "5/5 [==============================] - 0s 2ms/step - loss: 1.0174\n",
            "Epoch 25/100\n",
            "5/5 [==============================] - 0s 3ms/step - loss: 1.0097\n",
            "Epoch 26/100\n",
            "5/5 [==============================] - 0s 2ms/step - loss: 1.0029\n",
            "Epoch 27/100\n",
            "5/5 [==============================] - 0s 3ms/step - loss: 0.9959\n",
            "Epoch 28/100\n",
            "5/5 [==============================] - 0s 2ms/step - loss: 0.9884\n",
            "Epoch 29/100\n",
            "5/5 [==============================] - 0s 2ms/step - loss: 0.9822\n",
            "Epoch 30/100\n",
            "5/5 [==============================] - 0s 2ms/step - loss: 0.9747\n",
            "Epoch 31/100\n",
            "5/5 [==============================] - 0s 2ms/step - loss: 0.9672\n",
            "Epoch 32/100\n",
            "5/5 [==============================] - 0s 3ms/step - loss: 0.9614\n",
            "Epoch 33/100\n",
            "5/5 [==============================] - 0s 2ms/step - loss: 0.9530\n",
            "Epoch 34/100\n",
            "5/5 [==============================] - 0s 2ms/step - loss: 0.9462\n",
            "Epoch 35/100\n",
            "5/5 [==============================] - 0s 2ms/step - loss: 0.9399\n",
            "Epoch 36/100\n",
            "5/5 [==============================] - 0s 2ms/step - loss: 0.9324\n",
            "Epoch 37/100\n",
            "5/5 [==============================] - 0s 2ms/step - loss: 0.9258\n",
            "Epoch 38/100\n",
            "5/5 [==============================] - 0s 2ms/step - loss: 0.9193\n",
            "Epoch 39/100\n",
            "5/5 [==============================] - 0s 2ms/step - loss: 0.9123\n",
            "Epoch 40/100\n",
            "5/5 [==============================] - 0s 2ms/step - loss: 0.9059\n",
            "Epoch 41/100\n",
            "5/5 [==============================] - 0s 2ms/step - loss: 0.8987\n",
            "Epoch 42/100\n",
            "5/5 [==============================] - 0s 2ms/step - loss: 0.8915\n",
            "Epoch 43/100\n",
            "5/5 [==============================] - 0s 2ms/step - loss: 0.8861\n",
            "Epoch 44/100\n",
            "5/5 [==============================] - 0s 2ms/step - loss: 0.8789\n",
            "Epoch 45/100\n",
            "5/5 [==============================] - 0s 2ms/step - loss: 0.8723\n",
            "Epoch 46/100\n",
            "5/5 [==============================] - 0s 2ms/step - loss: 0.8664\n",
            "Epoch 47/100\n",
            "5/5 [==============================] - 0s 2ms/step - loss: 0.8594\n",
            "Epoch 48/100\n",
            "5/5 [==============================] - 0s 2ms/step - loss: 0.8534\n",
            "Epoch 49/100\n",
            "5/5 [==============================] - 0s 2ms/step - loss: 0.8471\n",
            "Epoch 50/100\n",
            "5/5 [==============================] - 0s 2ms/step - loss: 0.8418\n",
            "Epoch 51/100\n",
            "5/5 [==============================] - 0s 2ms/step - loss: 0.8349\n",
            "Epoch 52/100\n",
            "5/5 [==============================] - 0s 2ms/step - loss: 0.8292\n",
            "Epoch 53/100\n",
            "5/5 [==============================] - 0s 4ms/step - loss: 0.8237\n",
            "Epoch 54/100\n",
            "5/5 [==============================] - 0s 4ms/step - loss: 0.8200\n",
            "Epoch 55/100\n",
            "5/5 [==============================] - 0s 3ms/step - loss: 0.8133\n",
            "Epoch 56/100\n",
            "5/5 [==============================] - 0s 2ms/step - loss: 0.8082\n",
            "Epoch 57/100\n",
            "5/5 [==============================] - 0s 2ms/step - loss: 0.8028\n",
            "Epoch 58/100\n",
            "5/5 [==============================] - 0s 2ms/step - loss: 0.7972\n",
            "Epoch 59/100\n",
            "5/5 [==============================] - 0s 2ms/step - loss: 0.7950\n",
            "Epoch 60/100\n",
            "5/5 [==============================] - 0s 3ms/step - loss: 0.7875\n",
            "Epoch 61/100\n",
            "5/5 [==============================] - 0s 2ms/step - loss: 0.7832\n",
            "Epoch 62/100\n",
            "5/5 [==============================] - 0s 2ms/step - loss: 0.7782\n",
            "Epoch 63/100\n",
            "5/5 [==============================] - 0s 2ms/step - loss: 0.7731\n",
            "Epoch 64/100\n",
            "5/5 [==============================] - 0s 2ms/step - loss: 0.7682\n",
            "Epoch 65/100\n",
            "5/5 [==============================] - 0s 2ms/step - loss: 0.7635\n",
            "Epoch 66/100\n",
            "5/5 [==============================] - 0s 2ms/step - loss: 0.7580\n",
            "Epoch 67/100\n",
            "5/5 [==============================] - 0s 3ms/step - loss: 0.7552\n",
            "Epoch 68/100\n",
            "5/5 [==============================] - 0s 4ms/step - loss: 0.7498\n",
            "Epoch 69/100\n",
            "5/5 [==============================] - 0s 3ms/step - loss: 0.7452\n",
            "Epoch 70/100\n",
            "5/5 [==============================] - 0s 2ms/step - loss: 0.7410\n",
            "Epoch 71/100\n",
            "5/5 [==============================] - 0s 2ms/step - loss: 0.7362\n",
            "Epoch 72/100\n",
            "5/5 [==============================] - 0s 2ms/step - loss: 0.7319\n",
            "Epoch 73/100\n",
            "5/5 [==============================] - 0s 2ms/step - loss: 0.7281\n",
            "Epoch 74/100\n",
            "5/5 [==============================] - 0s 2ms/step - loss: 0.7234\n",
            "Epoch 75/100\n",
            "5/5 [==============================] - 0s 2ms/step - loss: 0.7188\n",
            "Epoch 76/100\n",
            "5/5 [==============================] - 0s 2ms/step - loss: 0.7149\n",
            "Epoch 77/100\n",
            "5/5 [==============================] - 0s 3ms/step - loss: 0.7111\n",
            "Epoch 78/100\n",
            "5/5 [==============================] - 0s 3ms/step - loss: 0.7066\n",
            "Epoch 79/100\n",
            "5/5 [==============================] - 0s 2ms/step - loss: 0.7022\n",
            "Epoch 80/100\n",
            "5/5 [==============================] - 0s 2ms/step - loss: 0.6994\n",
            "Epoch 81/100\n",
            "5/5 [==============================] - 0s 2ms/step - loss: 0.6942\n",
            "Epoch 82/100\n",
            "5/5 [==============================] - 0s 3ms/step - loss: 0.6908\n",
            "Epoch 83/100\n",
            "5/5 [==============================] - 0s 2ms/step - loss: 0.6871\n",
            "Epoch 84/100\n",
            "5/5 [==============================] - 0s 3ms/step - loss: 0.6848\n",
            "Epoch 85/100\n",
            "5/5 [==============================] - 0s 2ms/step - loss: 0.6808\n",
            "Epoch 86/100\n",
            "5/5 [==============================] - 0s 2ms/step - loss: 0.6768\n",
            "Epoch 87/100\n",
            "5/5 [==============================] - 0s 2ms/step - loss: 0.6732\n",
            "Epoch 88/100\n",
            "5/5 [==============================] - 0s 3ms/step - loss: 0.6701\n",
            "Epoch 89/100\n",
            "5/5 [==============================] - 0s 3ms/step - loss: 0.6675\n",
            "Epoch 90/100\n",
            "5/5 [==============================] - 0s 3ms/step - loss: 0.6631\n",
            "Epoch 91/100\n",
            "5/5 [==============================] - 0s 3ms/step - loss: 0.6595\n",
            "Epoch 92/100\n",
            "5/5 [==============================] - 0s 2ms/step - loss: 0.6566\n",
            "Epoch 93/100\n",
            "5/5 [==============================] - 0s 3ms/step - loss: 0.6525\n",
            "Epoch 94/100\n",
            "5/5 [==============================] - 0s 2ms/step - loss: 0.6490\n",
            "Epoch 95/100\n",
            "5/5 [==============================] - 0s 2ms/step - loss: 0.6472\n",
            "Epoch 96/100\n",
            "5/5 [==============================] - 0s 2ms/step - loss: 0.6420\n",
            "Epoch 97/100\n",
            "5/5 [==============================] - 0s 2ms/step - loss: 0.6408\n",
            "Epoch 98/100\n",
            "5/5 [==============================] - 0s 2ms/step - loss: 0.6368\n",
            "Epoch 99/100\n",
            "5/5 [==============================] - 0s 3ms/step - loss: 0.6343\n",
            "Epoch 100/100\n",
            "5/5 [==============================] - 0s 2ms/step - loss: 0.6308\n"
          ],
          "name": "stdout"
        },
        {
          "output_type": "execute_result",
          "data": {
            "text/plain": [
              "<tensorflow.python.keras.callbacks.History at 0x7f5e4267f3c8>"
            ]
          },
          "metadata": {
            "tags": []
          },
          "execution_count": 18
        }
      ]
    },
    {
      "cell_type": "code",
      "metadata": {
        "colab": {
          "base_uri": "https://localhost:8080/"
        },
        "id": "Jxt1D4swuZaF",
        "outputId": "3ec60116-ba90-4db8-d6fb-3185937e6e15"
      },
      "source": [
        "model.predict(독립[:5])\r\n",
        "print(종속[:5])"
      ],
      "execution_count": 19,
      "outputs": [
        {
          "output_type": "stream",
          "text": [
            "   품종_setosa  품종_versicolor  품종_virginica\n",
            "0          1              0             0\n",
            "1          1              0             0\n",
            "2          1              0             0\n",
            "3          1              0             0\n",
            "4          1              0             0\n"
          ],
          "name": "stdout"
        }
      ]
    },
    {
      "cell_type": "code",
      "metadata": {
        "id": "wPZOHOTf2BOQ"
      },
      "source": [
        ""
      ],
      "execution_count": null,
      "outputs": []
    }
  ]
}